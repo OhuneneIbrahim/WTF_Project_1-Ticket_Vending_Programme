{
 "cells": [
  {
   "cell_type": "markdown",
   "id": "218f111b",
   "metadata": {},
   "source": [
    "### **Women Techster Fellowship Data Science Project**\n",
    "---\n",
    "**Project Name -** A concert ticket selling system \n",
    "</br>\n",
    "**Contributors :**\n",
    "*  Rabiat Ibrahim - WTF/23/DS/D/036\n",
    "*  Precious Oladipo - WTF/23/DS/D/027  \n",
    "<br/>\n",
    "<br/>\n",
    "\n",
    "---\n",
    "**Project Overview:**\n",
    "We wanted to build a project that encompasses all that we have been learning in class. We decided on a system that allows users to buy ticket for available upcoming concerts. On our system, users will be able to check for upcoming concerts, see if they are available, reserve a seat, get a discount if they enter the promo code and get a reciept for their purchase. Users can also decide the type of ticket they want, from the options available: `Regular`, `VIP`, `VVIP` and `Table of Ten`.\n",
    "\n",
    "Using OOP, all our coding was written under a single class, and we created different functions to perform specific tasks. The class takes the name of the user and two dictionaries as arguments. `Loops` and `conditional statments` were extensively used for proper functioning of the code. Also, to catch and  handle exceptions errors in our code, we used 'try' and 'except' statements.\n"
   ]
  },
  {
   "cell_type": "code",
   "execution_count": null,
   "id": "13f5b28b",
   "metadata": {},
   "outputs": [],
   "source": []
  }
 ],
 "metadata": {
  "kernelspec": {
   "display_name": "Python 3 (ipykernel)",
   "language": "python",
   "name": "python3"
  },
  "language_info": {
   "codemirror_mode": {
    "name": "ipython",
    "version": 3
   },
   "file_extension": ".py",
   "mimetype": "text/x-python",
   "name": "python",
   "nbconvert_exporter": "python",
   "pygments_lexer": "ipython3",
   "version": "3.9.7"
  }
 },
 "nbformat": 4,
 "nbformat_minor": 5
}
